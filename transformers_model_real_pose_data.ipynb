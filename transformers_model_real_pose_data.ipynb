{
  "cells": [
    {
      "cell_type": "code",
      "source": [
        "# Check if NVIDIA GPU is enabled\n",
        "!nvidia-smi"
      ],
      "metadata": {
        "colab": {
          "base_uri": "https://localhost:8080/"
        },
        "id": "Rf38eAo5m2Pk",
        "outputId": "feda91ed-2526-4335-c81f-8c7517417312"
      },
      "execution_count": null,
      "outputs": [
        {
          "output_type": "stream",
          "name": "stdout",
          "text": [
            "Tue Sep 26 08:39:28 2023       \n",
            "+-----------------------------------------------------------------------------+\n",
            "| NVIDIA-SMI 525.105.17   Driver Version: 525.105.17   CUDA Version: 12.0     |\n",
            "|-------------------------------+----------------------+----------------------+\n",
            "| GPU  Name        Persistence-M| Bus-Id        Disp.A | Volatile Uncorr. ECC |\n",
            "| Fan  Temp  Perf  Pwr:Usage/Cap|         Memory-Usage | GPU-Util  Compute M. |\n",
            "|                               |                      |               MIG M. |\n",
            "|===============================+======================+======================|\n",
            "|   0  Tesla T4            Off  | 00000000:00:04.0 Off |                    0 |\n",
            "| N/A   58C    P8    10W /  70W |      0MiB / 15360MiB |      0%      Default |\n",
            "|                               |                      |                  N/A |\n",
            "+-------------------------------+----------------------+----------------------+\n",
            "                                                                               \n",
            "+-----------------------------------------------------------------------------+\n",
            "| Processes:                                                                  |\n",
            "|  GPU   GI   CI        PID   Type   Process name                  GPU Memory |\n",
            "|        ID   ID                                                   Usage      |\n",
            "|=============================================================================|\n",
            "|  No running processes found                                                 |\n",
            "+-----------------------------------------------------------------------------+\n"
          ]
        }
      ]
    },
    {
      "cell_type": "code",
      "source": [
        "from google.colab import drive\n",
        "drive.mount('/content/gdrive')\n",
        "!ln -s /content/gdrive/My\\ Drive/ /mydrive\n",
        "!ls /mydrive"
      ],
      "metadata": {
        "id": "owfKSu0tm78M",
        "colab": {
          "base_uri": "https://localhost:8080/"
        },
        "outputId": "65a3fd24-72fc-4fb1-80f8-c864b2d0db01"
      },
      "execution_count": null,
      "outputs": [
        {
          "output_type": "stream",
          "name": "stdout",
          "text": [
            "Drive already mounted at /content/gdrive; to attempt to forcibly remount, call drive.mount(\"/content/gdrive\", force_remount=True).\n",
            "ln: failed to create symbolic link '/mydrive/My Drive': File exists\n",
            " 123123_1.pdf\n",
            " abalone-detection-and-tracking.zip\n",
            " abalone.mp4\n",
            " aftefall.csv\n",
            "'Colab Notebooks'\n",
            "'Copy of obj.data'\n",
            " dnn_model.h5\n",
            " emergencyfall\n",
            "'fall detection.v5.zip'\n",
            " falling_df.csv\n",
            " finedust\n",
            " frames\n",
            " frames.zip\n",
            " generate_train.py\n",
            "'GRADUATION 27.02.2020'\n",
            " images\n",
            "'KIBET DUNCAN IMMUNIZATION CERT.pdf'\n",
            "'LF1A-02Wbottom (3).zip'\n",
            " lie_df.csv\n",
            " lie_down_df.csv\n",
            " model2-Copy2.ipynb\n",
            " MVI_0511.MP4\n",
            "'My Drive'\n",
            " my_model.h5\n",
            "'non-emergency fall'\n",
            " obj.data\n",
            " obj.names\n",
            " pose_deploy_linevec_faster_4_stages.prototxt\n",
            " pose_estimation_data.csv\n",
            " posepose.ipynb\n",
            " results.avi\n",
            " sit_down_df.csv\n",
            " sleeping_df.csv\n",
            " speed_falling_df.csv\n",
            " speed_lie_down_df.csv\n",
            " speed_sit_down_df.csv\n",
            " speed_standing_df.csv\n",
            " speed_stand_up_df.csv\n",
            " standing_df.csv\n",
            " stand_up_df.csv\n",
            " train\n",
            "'transformer model.ipynb'\n",
            " yolov3\n",
            " yolov31\n",
            " yolov3_custom.cfg\n",
            " YOLOv3_Tutorial.ipynb\n",
            " yolov4\n",
            " YOLOv4_Training_Tutorial.ipynb\n",
            " YOLOV5.pt\n",
            " yolov7.pt\n",
            " yolov8s.pt\n",
            " 재현_study2.csv\n",
            "'키벳 던칸.pdf'\n"
          ]
        }
      ]
    },
    {
      "cell_type": "code",
      "execution_count": null,
      "metadata": {
        "id": "1UuXD4S6QIRk"
      },
      "outputs": [],
      "source": [
        "import pandas as pd\n",
        "from pandas import read_csv\n",
        "import numpy as np\n",
        "from numpy import concatenate\n",
        "from pandas import DataFrame, Series\n",
        "from datetime import datetime\n",
        "\n",
        "from warnings import filterwarnings\n",
        "filterwarnings('ignore')"
      ]
    },
    {
      "cell_type": "code",
      "execution_count": null,
      "metadata": {
        "id": "Qv-P9uoOm0Zw"
      },
      "outputs": [],
      "source": [
        "import numpy as np\n",
        "import pandas as pd\n",
        "from sklearn.preprocessing import MinMaxScaler\n",
        "\n",
        "filename = '/content/gdrive/MyDrive/falling_df.csv'\n",
        "falling = pd.read_csv(filename).values\n",
        "\n",
        "filename = '/content/gdrive/MyDrive/stand_up_df.csv'\n",
        "stand_up = pd.read_csv(filename).values\n",
        "\n",
        "filename = '/content/gdrive/MyDrive/standing_df.csv'\n",
        "standing = pd.read_csv(filename).values\n",
        "\n",
        "filename = '/content/gdrive/MyDrive/lie_down_df.csv'\n",
        "lie_down = pd.read_csv(filename).values\n",
        "\n",
        "filename = '/content/gdrive/MyDrive/sit_down_df.csv'\n",
        "sit_down = pd.read_csv(filename).values\n",
        "\n",
        "filename = '/content/gdrive/MyDrive/lie_df.csv'\n",
        "lie_df = pd.read_csv(filename).values"
      ]
    },
    {
      "cell_type": "code",
      "source": [
        "len(falling)"
      ],
      "metadata": {
        "colab": {
          "base_uri": "https://localhost:8080/"
        },
        "id": "TKbXVJfBo6iz",
        "outputId": "8e15d305-396f-4082-a4b0-abb7785ddf86"
      },
      "execution_count": null,
      "outputs": [
        {
          "output_type": "execute_result",
          "data": {
            "text/plain": [
              "9900"
            ]
          },
          "metadata": {},
          "execution_count": 15
        }
      ]
    },
    {
      "cell_type": "code",
      "source": [
        "len(stand_up)"
      ],
      "metadata": {
        "colab": {
          "base_uri": "https://localhost:8080/"
        },
        "id": "HIkln1z_o6lE",
        "outputId": "16d58d47-2805-4476-a8c5-599cdd9c7202"
      },
      "execution_count": null,
      "outputs": [
        {
          "output_type": "execute_result",
          "data": {
            "text/plain": [
              "9900"
            ]
          },
          "metadata": {},
          "execution_count": 16
        }
      ]
    },
    {
      "cell_type": "code",
      "source": [
        "len(standing)"
      ],
      "metadata": {
        "colab": {
          "base_uri": "https://localhost:8080/"
        },
        "id": "BD4ejD-No6pF",
        "outputId": "a97b43ee-0023-4a92-dffc-a233cd9760ec"
      },
      "execution_count": null,
      "outputs": [
        {
          "output_type": "execute_result",
          "data": {
            "text/plain": [
              "9900"
            ]
          },
          "metadata": {},
          "execution_count": 17
        }
      ]
    },
    {
      "cell_type": "code",
      "source": [
        "len(lie_down)"
      ],
      "metadata": {
        "colab": {
          "base_uri": "https://localhost:8080/"
        },
        "id": "a3byfVK5o6rV",
        "outputId": "91c0d064-2932-445a-c8e6-2b2ec01d83f7"
      },
      "execution_count": null,
      "outputs": [
        {
          "output_type": "execute_result",
          "data": {
            "text/plain": [
              "8019"
            ]
          },
          "metadata": {},
          "execution_count": 18
        }
      ]
    },
    {
      "cell_type": "code",
      "source": [
        "len(sit_down)"
      ],
      "metadata": {
        "colab": {
          "base_uri": "https://localhost:8080/"
        },
        "id": "Gv_RlwHRo6w3",
        "outputId": "0b13cc96-4b53-47c7-8ba0-9abbfb7d7586"
      },
      "execution_count": null,
      "outputs": [
        {
          "output_type": "execute_result",
          "data": {
            "text/plain": [
              "9900"
            ]
          },
          "metadata": {},
          "execution_count": 19
        }
      ]
    },
    {
      "cell_type": "code",
      "source": [],
      "metadata": {
        "id": "TdYbJneJtCjD"
      },
      "execution_count": null,
      "outputs": []
    },
    {
      "cell_type": "code",
      "source": [
        "import pandas as pd\n",
        "\n",
        "# List of file paths and corresponding dataframes\n",
        "file_paths = [\n",
        "    '/content/gdrive/MyDrive/falling_df.csv',\n",
        "    '/content/gdrive/MyDrive/stand_up_df.csv',\n",
        "    '/content/gdrive/MyDrive/standing_df.csv',\n",
        "    '/content/gdrive/MyDrive/lie_down_df.csv',\n",
        "    '/content/gdrive/MyDrive/sit_down_df.csv',\n",
        "    '/content/gdrive/MyDrive/lie_df.csv'\n",
        "]\n",
        "\n",
        "dfs = [pd.read_csv(file_path) for file_path in file_paths]\n",
        "\n",
        "# Columns to be dropped\n",
        "cols_to_drop = ['midpoint_1', 'midpoint_2', 'central_point']\n",
        "\n",
        "# Drop the columns and save back to the original files\n",
        "for i, df in enumerate(dfs):\n",
        "    if all(col in df.columns for col in cols_to_drop): # Check if all columns exist\n",
        "        df.drop(columns=cols_to_drop, inplace=True)\n",
        "        df.to_csv(file_paths[i], index=False)\n"
      ],
      "metadata": {
        "id": "rGmEsMCtp_lH"
      },
      "execution_count": null,
      "outputs": []
    },
    {
      "cell_type": "code",
      "execution_count": null,
      "metadata": {
        "colab": {
          "base_uri": "https://localhost:8080/"
        },
        "id": "WPKoFz6Vm0Zy",
        "outputId": "50500140-7cd4-4733-97a0-60dc71ce0ab6"
      },
      "outputs": [
        {
          "output_type": "stream",
          "name": "stdout",
          "text": [
            "(581, 99, 136)\n",
            "(99, 136)\n"
          ]
        }
      ],
      "source": [
        "# Read the CSV files\n",
        "falling_df = pd.read_csv('/content/gdrive/MyDrive/falling_df.csv')\n",
        "stand_up_df = pd.read_csv('/content/gdrive/MyDrive/stand_up_df.csv')\n",
        "standing_df = pd.read_csv('/content/gdrive/MyDrive/standing_df.csv')\n",
        "lie_down_df = pd.read_csv('/content/gdrive/MyDrive/lie_down_df.csv')\n",
        "sit_down_df = pd.read_csv('/content/gdrive/MyDrive/sit_down_df.csv')\n",
        "lie_df = pd.read_csv('/content/gdrive/MyDrive/lie_df.csv')\n",
        "\n",
        "# Convert the dataframes to numpy arrays\n",
        "falling = falling_df.values\n",
        "stand_up = stand_up_df.values\n",
        "standing = standing_df.values\n",
        "lie_down = lie_down_df.values\n",
        "sit_down = sit_down_df.values\n",
        "lie = lie_df.values\n",
        "\n",
        "# Reshape the arrays\n",
        "falling_reshaped = falling.reshape(round(falling.shape[0]/99), 99, falling.shape[1])\n",
        "stand_up_reshaped = stand_up.reshape(round(stand_up.shape[0]/99), 99, stand_up.shape[1])\n",
        "standing_reshaped = standing.reshape(round(standing.shape[0]/99), 99, standing.shape[1])\n",
        "lie_down_reshaped = lie_down.reshape(round(lie_down.shape[0]/99), 99, lie_down.shape[1])\n",
        "sit_down_reshaped = sit_down.reshape(round(sit_down.shape[0]/99), 99, sit_down.shape[1])\n",
        "lie_reshaped = lie.reshape(round(lie.shape[0]/99), 99, lie.shape[1])\n",
        "\n",
        "# Concatenate the arrays\n",
        "x = np.concatenate([falling, stand_up, standing, lie_down, sit_down, lie], axis=0)\n",
        "\n",
        "# Normalize the data using MinMaxScaler\n",
        "scaler = MinMaxScaler(feature_range=(0, 1))\n",
        "scaled = scaler.fit_transform(x)\n",
        "\n",
        "# Reshape the scaled array\n",
        "scaled_reshaped = scaled.reshape(round(scaled.shape[0]/99), 99, scaled.shape[1])\n",
        "print(scaled_reshaped.shape)\n",
        "print(scaled_reshaped[0].shape)"
      ]
    },
    {
      "cell_type": "code",
      "execution_count": null,
      "metadata": {
        "colab": {
          "base_uri": "https://localhost:8080/"
        },
        "id": "QP3KXgt3m0Z0",
        "outputId": "068f5c6b-ad69-43f4-c115-c6d2560bc535"
      },
      "outputs": [
        {
          "output_type": "stream",
          "name": "stdout",
          "text": [
            "(100,)\n",
            "0\n",
            "(100,)\n",
            "1\n",
            "(100,)\n",
            "2\n",
            "(81,)\n",
            "3\n",
            "(100,)\n",
            "4\n",
            "(100,)\n",
            "5\n"
          ]
        }
      ],
      "source": [
        "import numpy as np\n",
        "falling_y = np.zeros((falling_reshaped.shape[0],), dtype=int)\n",
        "print(falling_y.shape)\n",
        "print(falling_y[0])\n",
        "\n",
        "\n",
        "import numpy as np\n",
        "stand_up_y = np.ones((stand_up_reshaped.shape[0],), dtype=int)\n",
        "print(stand_up_y.shape)\n",
        "print(stand_up_y[0])\n",
        "\n",
        "\n",
        "import numpy as np\n",
        "standing_y = np.ones((standing_reshaped.shape[0],), dtype=int) * 2\n",
        "print(standing_y.shape)\n",
        "print(standing_y[0])\n",
        "\n",
        "import numpy as np\n",
        "lie_down_y = np.ones((lie_down_reshaped.shape[0],), dtype=int) * 3\n",
        "print(lie_down_y.shape)\n",
        "print(lie_down_y[0])\n",
        "\n",
        "\n",
        "import numpy as np\n",
        "sit_down_y = np.ones((sit_down_reshaped.shape[0],), dtype=int) * 4\n",
        "print(sit_down_y.shape)\n",
        "print(sit_down_y[0])\n",
        "\n",
        "\n",
        "import numpy as np\n",
        "lie_y = np.ones((lie_reshaped.shape[0],), dtype=int) * 5\n",
        "print(lie_y.shape)\n",
        "print(lie_y[0])\n"
      ]
    },
    {
      "cell_type": "code",
      "execution_count": null,
      "metadata": {
        "colab": {
          "base_uri": "https://localhost:8080/"
        },
        "id": "A-YXEvToSzA_",
        "outputId": "04fc8f2d-1b85-4455-c630-12442ca15771"
      },
      "outputs": [
        {
          "output_type": "stream",
          "name": "stdout",
          "text": [
            "(581, 99, 134)\n",
            "(581,)\n"
          ]
        }
      ],
      "source": [
        "#merging data\n",
        "from numpy import concatenate\n",
        "# x = concatenate([falling, emergency],axis=0)\n",
        "y = concatenate([falling_y, stand_up_y, standing_y, lie_down_y, sit_down_y, lie_y],axis=0)\n",
        "print(scaled_reshaped.shape)\n",
        "print(y.shape)"
      ]
    },
    {
      "cell_type": "code",
      "execution_count": null,
      "metadata": {
        "colab": {
          "base_uri": "https://localhost:8080/"
        },
        "id": "3Yl2LlQWS_aQ",
        "outputId": "dbed5e53-40a9-458c-a40f-bdde31d66c24"
      },
      "outputs": [
        {
          "output_type": "stream",
          "name": "stdout",
          "text": [
            "(464, 99, 134)\n",
            "(117, 99, 134)\n",
            "(464,)\n",
            "(117,)\n"
          ]
        }
      ],
      "source": [
        "from sklearn.model_selection import train_test_split\n",
        "x_train, x_test, y_train, y_test = train_test_split(scaled_reshaped, y, test_size=0.2, shuffle=True, stratify=y)\n",
        "print(x_train.shape)\n",
        "print(x_test.shape)\n",
        "print(y_train.shape)\n",
        "print(y_test.shape)\n",
        "# one_hot_vec_size = train_y.shape[1]\n",
        "# print(\"one hot encoding vector size is \", one_hot_vec_size)"
      ]
    },
    {
      "cell_type": "code",
      "execution_count": null,
      "metadata": {
        "colab": {
          "base_uri": "https://localhost:8080/"
        },
        "id": "qp9cQ5B0VDhJ",
        "outputId": "06a12d8a-a63a-440a-f633-712407b03cbc"
      },
      "outputs": [
        {
          "output_type": "execute_result",
          "data": {
            "text/plain": [
              "array([0, 0, 4, 3, 5, 4, 0, 4, 0, 2, 3, 4, 2, 4, 5, 3, 3, 5, 4, 4, 3, 2,\n",
              "       2, 5, 2, 4, 2, 0, 4, 0, 1, 1, 5, 0, 5, 1, 2, 0, 2, 3, 0, 1, 3, 1,\n",
              "       5, 1, 5, 0, 3, 2, 4, 2, 2, 5, 2, 1, 0, 4, 3, 4, 2, 3, 4, 4, 4, 5,\n",
              "       0, 3, 5, 2, 1, 2, 4, 5, 1, 5, 4, 1, 5, 1, 4, 2, 0, 0, 1, 5, 5, 0,\n",
              "       5, 1, 4, 3, 0, 2, 4, 0, 3, 3, 5, 5, 1, 5, 0, 2, 1, 2, 3, 0, 1, 2,\n",
              "       1, 3, 1, 1, 3, 0, 1])"
            ]
          },
          "metadata": {},
          "execution_count": 9
        }
      ],
      "source": [
        "y_test"
      ]
    },
    {
      "cell_type": "code",
      "execution_count": null,
      "metadata": {
        "id": "W_nEIw05wnku"
      },
      "outputs": [],
      "source": [
        "# n_classes = len(np.unique(y_train))\n",
        "\n",
        "from tensorflow import keras\n",
        "from tensorflow.keras import layers\n",
        "import tensorflow as tf\n",
        "n_classes = 6"
      ]
    },
    {
      "cell_type": "code",
      "execution_count": null,
      "metadata": {
        "id": "GE2uP84fwokG"
      },
      "outputs": [],
      "source": [
        "def transformer_encoder(inputs, head_size, num_heads, ff_dim, dropout=0.4):\n",
        "    # Normalization and Attention\n",
        "    x = layers.LayerNormalization(epsilon=1e-6)(inputs)\n",
        "    x = layers.MultiHeadAttention(key_dim=head_size, num_heads=num_heads, dropout=dropout)(x, x)\n",
        "    x = layers.Dropout(dropout)(x)\n",
        "    res = x + inputs\n",
        "\n",
        "    # Feed Forward Part\n",
        "    x = layers.LayerNormalization(epsilon=1e-6)(res)\n",
        "    x = layers.Conv1D(filters=ff_dim, kernel_size=1, activation=\"relu\")(x)\n",
        "    x = layers.Dropout(dropout)(x)\n",
        "    x = layers.Conv1D(filters=inputs.shape[-1], kernel_size=1)(x)\n",
        "    return x + res"
      ]
    },
    {
      "cell_type": "code",
      "execution_count": null,
      "metadata": {
        "id": "JQNdpYfzm0aQ"
      },
      "outputs": [],
      "source": [
        "def build_model(\n",
        "    input_shape,\n",
        "    head_size,\n",
        "    num_heads,\n",
        "    ff_dim,\n",
        "    num_transformer_blocks,\n",
        "    mlp_units,\n",
        "    dropout=0,\n",
        "    mlp_dropout=0,\n",
        "):\n",
        "    # Define input layer\n",
        "    inputs = keras.Input(shape=input_shape)\n",
        "\n",
        "    # Build transformer blocks\n",
        "    x = inputs\n",
        "    for _ in range(num_transformer_blocks):\n",
        "        x = transformer_encoder(x, head_size, num_heads, ff_dim, dropout)\n",
        "\n",
        "    # Apply global average pooling and MLP\n",
        "    x = layers.GlobalAveragePooling1D(data_format=\"channels_first\")(x)\n",
        "    for dim in mlp_units:\n",
        "        x = layers.Dense(dim, activation=\"relu\")(x)\n",
        "        x = layers.Dropout(mlp_dropout)(x)\n",
        "\n",
        "    # Define output layer\n",
        "    outputs = layers.Dense(n_classes, activation=\"softmax\")(x)\n",
        "\n",
        "    # Build model\n",
        "    model = keras.Model(inputs, outputs)\n",
        "\n",
        "    return model"
      ]
    },
    {
      "cell_type": "code",
      "execution_count": null,
      "metadata": {
        "colab": {
          "base_uri": "https://localhost:8080/"
        },
        "id": "JU-Ax0-vm0ae",
        "outputId": "0687a9be-e03e-4937-89f3-e05f7c5ec684"
      },
      "outputs": [
        {
          "output_type": "stream",
          "name": "stdout",
          "text": [
            "Epoch 1/1000\n",
            "12/12 [==============================] - 33s 193ms/step - loss: 1.8281 - accuracy: 0.2210 - val_loss: 1.5935 - val_accuracy: 0.3011\n",
            "Epoch 2/1000\n",
            "12/12 [==============================] - 1s 104ms/step - loss: 1.4616 - accuracy: 0.3450 - val_loss: 1.3277 - val_accuracy: 0.3871\n",
            "Epoch 3/1000\n",
            "12/12 [==============================] - 1s 105ms/step - loss: 0.9851 - accuracy: 0.5687 - val_loss: 0.7514 - val_accuracy: 0.6559\n",
            "Epoch 4/1000\n",
            "12/12 [==============================] - 1s 98ms/step - loss: 0.7857 - accuracy: 0.6388 - val_loss: 0.5530 - val_accuracy: 0.7419\n",
            "Epoch 5/1000\n",
            "12/12 [==============================] - 1s 100ms/step - loss: 0.6674 - accuracy: 0.6765 - val_loss: 0.5799 - val_accuracy: 0.7097\n",
            "Epoch 6/1000\n",
            "12/12 [==============================] - 1s 105ms/step - loss: 0.5975 - accuracy: 0.7305 - val_loss: 0.4505 - val_accuracy: 0.7527\n",
            "Epoch 7/1000\n",
            "12/12 [==============================] - 1s 101ms/step - loss: 0.5443 - accuracy: 0.7358 - val_loss: 0.4559 - val_accuracy: 0.8602\n",
            "Epoch 8/1000\n",
            "12/12 [==============================] - 1s 106ms/step - loss: 0.5445 - accuracy: 0.7736 - val_loss: 0.4914 - val_accuracy: 0.7527\n",
            "Epoch 9/1000\n",
            "12/12 [==============================] - 1s 105ms/step - loss: 0.4646 - accuracy: 0.7844 - val_loss: 0.4551 - val_accuracy: 0.7634\n",
            "Epoch 10/1000\n",
            "12/12 [==============================] - 1s 96ms/step - loss: 0.4406 - accuracy: 0.8167 - val_loss: 0.7842 - val_accuracy: 0.7204\n",
            "Epoch 11/1000\n",
            "12/12 [==============================] - 1s 102ms/step - loss: 0.6148 - accuracy: 0.7520 - val_loss: 0.5575 - val_accuracy: 0.7957\n",
            "Epoch 12/1000\n",
            "12/12 [==============================] - 1s 96ms/step - loss: 0.4752 - accuracy: 0.7951 - val_loss: 0.6876 - val_accuracy: 0.7097\n",
            "Epoch 13/1000\n",
            "12/12 [==============================] - 1s 101ms/step - loss: 0.5593 - accuracy: 0.7844 - val_loss: 0.4860 - val_accuracy: 0.8387\n",
            "Epoch 14/1000\n",
            "12/12 [==============================] - 1s 102ms/step - loss: 0.3782 - accuracy: 0.8679 - val_loss: 0.4510 - val_accuracy: 0.8387\n",
            "Epoch 15/1000\n",
            "12/12 [==============================] - 1s 102ms/step - loss: 0.3440 - accuracy: 0.8518 - val_loss: 0.4119 - val_accuracy: 0.8172\n",
            "Epoch 16/1000\n",
            "12/12 [==============================] - 1s 99ms/step - loss: 0.3373 - accuracy: 0.8787 - val_loss: 0.5396 - val_accuracy: 0.8065\n",
            "Epoch 17/1000\n",
            "12/12 [==============================] - 1s 98ms/step - loss: 0.3404 - accuracy: 0.8652 - val_loss: 0.4574 - val_accuracy: 0.8710\n",
            "Epoch 18/1000\n",
            "12/12 [==============================] - 1s 105ms/step - loss: 0.2743 - accuracy: 0.9003 - val_loss: 0.6324 - val_accuracy: 0.7742\n",
            "Epoch 19/1000\n",
            "12/12 [==============================] - 1s 108ms/step - loss: 0.2184 - accuracy: 0.9569 - val_loss: 0.5920 - val_accuracy: 0.8172\n",
            "Epoch 20/1000\n",
            "12/12 [==============================] - 1s 106ms/step - loss: 0.2145 - accuracy: 0.9030 - val_loss: 0.5144 - val_accuracy: 0.8280\n",
            "Epoch 21/1000\n",
            "12/12 [==============================] - 1s 100ms/step - loss: 0.2921 - accuracy: 0.8652 - val_loss: 0.4201 - val_accuracy: 0.8602\n",
            "Epoch 22/1000\n",
            "12/12 [==============================] - 1s 98ms/step - loss: 0.2242 - accuracy: 0.9326 - val_loss: 0.4912 - val_accuracy: 0.8602\n",
            "Epoch 23/1000\n",
            "12/12 [==============================] - 1s 99ms/step - loss: 0.1391 - accuracy: 0.9650 - val_loss: 0.5105 - val_accuracy: 0.8602\n",
            "Epoch 24/1000\n",
            "12/12 [==============================] - 1s 97ms/step - loss: 0.1536 - accuracy: 0.9650 - val_loss: 0.8114 - val_accuracy: 0.8280\n",
            "Epoch 25/1000\n",
            "12/12 [==============================] - 1s 98ms/step - loss: 0.1833 - accuracy: 0.9515 - val_loss: 0.9250 - val_accuracy: 0.8387\n",
            "Epoch 26/1000\n",
            "12/12 [==============================] - 1s 102ms/step - loss: 0.1613 - accuracy: 0.9650 - val_loss: 0.3579 - val_accuracy: 0.8817\n",
            "Epoch 27/1000\n",
            "12/12 [==============================] - 1s 99ms/step - loss: 0.0989 - accuracy: 0.9892 - val_loss: 0.4299 - val_accuracy: 0.8925\n",
            "Epoch 28/1000\n",
            "12/12 [==============================] - 1s 104ms/step - loss: 0.0865 - accuracy: 0.9946 - val_loss: 0.5898 - val_accuracy: 0.8817\n",
            "Epoch 29/1000\n",
            "12/12 [==============================] - 1s 105ms/step - loss: 0.0604 - accuracy: 0.9919 - val_loss: 0.5435 - val_accuracy: 0.8817\n",
            "Epoch 30/1000\n",
            "12/12 [==============================] - 1s 109ms/step - loss: 0.1244 - accuracy: 0.9811 - val_loss: 0.3786 - val_accuracy: 0.8710\n",
            "Epoch 31/1000\n",
            "12/12 [==============================] - 1s 111ms/step - loss: 0.3560 - accuracy: 0.8976 - val_loss: 0.5546 - val_accuracy: 0.7527\n",
            "Epoch 32/1000\n",
            "12/12 [==============================] - 1s 104ms/step - loss: 0.4307 - accuracy: 0.8518 - val_loss: 0.8567 - val_accuracy: 0.8280\n",
            "Epoch 33/1000\n",
            "12/12 [==============================] - 1s 100ms/step - loss: 0.1854 - accuracy: 0.9461 - val_loss: 0.7154 - val_accuracy: 0.8602\n",
            "Epoch 34/1000\n",
            "12/12 [==============================] - 1s 110ms/step - loss: 0.1558 - accuracy: 0.9596 - val_loss: 0.6951 - val_accuracy: 0.8280\n",
            "Epoch 35/1000\n",
            "12/12 [==============================] - 1s 121ms/step - loss: 0.1170 - accuracy: 0.9623 - val_loss: 0.7214 - val_accuracy: 0.8172\n",
            "Epoch 36/1000\n",
            "12/12 [==============================] - 1s 107ms/step - loss: 0.0921 - accuracy: 0.9919 - val_loss: 0.7677 - val_accuracy: 0.8172\n",
            "Epoch 37/1000\n",
            "12/12 [==============================] - 1s 107ms/step - loss: 0.0753 - accuracy: 0.9838 - val_loss: 0.7981 - val_accuracy: 0.8280\n",
            "Epoch 38/1000\n",
            "12/12 [==============================] - 1s 103ms/step - loss: 0.0733 - accuracy: 0.9892 - val_loss: 0.7613 - val_accuracy: 0.8817\n",
            "Epoch 39/1000\n",
            "12/12 [==============================] - 1s 109ms/step - loss: 0.0548 - accuracy: 0.9892 - val_loss: 0.9580 - val_accuracy: 0.8387\n",
            "Epoch 40/1000\n",
            "12/12 [==============================] - 1s 105ms/step - loss: 0.0446 - accuracy: 0.9973 - val_loss: 1.0963 - val_accuracy: 0.8387\n",
            "Epoch 41/1000\n",
            "12/12 [==============================] - 1s 113ms/step - loss: 0.0447 - accuracy: 0.9892 - val_loss: 0.9482 - val_accuracy: 0.8172\n",
            "Epoch 42/1000\n",
            "12/12 [==============================] - 1s 113ms/step - loss: 0.0384 - accuracy: 0.9892 - val_loss: 0.9234 - val_accuracy: 0.8710\n",
            "Epoch 43/1000\n",
            "12/12 [==============================] - 1s 108ms/step - loss: 0.0273 - accuracy: 1.0000 - val_loss: 0.9714 - val_accuracy: 0.8710\n",
            "Epoch 44/1000\n",
            "12/12 [==============================] - 1s 109ms/step - loss: 0.0238 - accuracy: 0.9973 - val_loss: 0.9327 - val_accuracy: 0.8495\n",
            "Epoch 45/1000\n",
            "12/12 [==============================] - 1s 103ms/step - loss: 0.0282 - accuracy: 0.9946 - val_loss: 0.9437 - val_accuracy: 0.8602\n",
            "Epoch 46/1000\n",
            "12/12 [==============================] - 1s 103ms/step - loss: 0.0201 - accuracy: 0.9973 - val_loss: 0.9990 - val_accuracy: 0.8495\n",
            "Epoch 47/1000\n",
            "12/12 [==============================] - 1s 109ms/step - loss: 0.0195 - accuracy: 0.9946 - val_loss: 0.7623 - val_accuracy: 0.8495\n",
            "Epoch 48/1000\n",
            "12/12 [==============================] - 1s 107ms/step - loss: 0.0123 - accuracy: 1.0000 - val_loss: 0.8108 - val_accuracy: 0.8495\n",
            "Epoch 49/1000\n",
            "12/12 [==============================] - 1s 102ms/step - loss: 0.0089 - accuracy: 1.0000 - val_loss: 0.9811 - val_accuracy: 0.8280\n",
            "Epoch 50/1000\n",
            "12/12 [==============================] - 1s 108ms/step - loss: 0.0105 - accuracy: 1.0000 - val_loss: 1.0949 - val_accuracy: 0.8387\n",
            "Epoch 51/1000\n",
            "12/12 [==============================] - 1s 109ms/step - loss: 0.0099 - accuracy: 1.0000 - val_loss: 1.0433 - val_accuracy: 0.8280\n",
            "Epoch 52/1000\n",
            "12/12 [==============================] - 1s 107ms/step - loss: 0.0143 - accuracy: 0.9973 - val_loss: 1.1807 - val_accuracy: 0.8495\n",
            "Epoch 53/1000\n",
            "12/12 [==============================] - 1s 111ms/step - loss: 0.0471 - accuracy: 0.9838 - val_loss: 1.0185 - val_accuracy: 0.8602\n",
            "Epoch 54/1000\n",
            "12/12 [==============================] - 1s 103ms/step - loss: 0.0492 - accuracy: 0.9784 - val_loss: 1.1611 - val_accuracy: 0.8602\n",
            "Epoch 55/1000\n",
            "12/12 [==============================] - 1s 101ms/step - loss: 0.0833 - accuracy: 0.9757 - val_loss: 0.7663 - val_accuracy: 0.8602\n",
            "Epoch 56/1000\n",
            "12/12 [==============================] - 1s 100ms/step - loss: 0.0610 - accuracy: 0.9811 - val_loss: 0.7032 - val_accuracy: 0.8817\n",
            "Epoch 57/1000\n",
            "12/12 [==============================] - 1s 101ms/step - loss: 0.0529 - accuracy: 0.9919 - val_loss: 0.6802 - val_accuracy: 0.8817\n",
            "Epoch 58/1000\n",
            "12/12 [==============================] - 1s 100ms/step - loss: 0.0410 - accuracy: 0.9865 - val_loss: 0.6209 - val_accuracy: 0.9032\n",
            "Epoch 59/1000\n",
            "12/12 [==============================] - 1s 109ms/step - loss: 0.0497 - accuracy: 0.9892 - val_loss: 0.3517 - val_accuracy: 0.8710\n",
            "Epoch 60/1000\n",
            "12/12 [==============================] - 1s 104ms/step - loss: 0.0398 - accuracy: 0.9946 - val_loss: 0.3040 - val_accuracy: 0.9140\n",
            "Epoch 61/1000\n",
            "12/12 [==============================] - 1s 100ms/step - loss: 0.0273 - accuracy: 0.9919 - val_loss: 0.7851 - val_accuracy: 0.8925\n",
            "Epoch 62/1000\n",
            "12/12 [==============================] - 1s 107ms/step - loss: 0.0393 - accuracy: 0.9838 - val_loss: 0.4435 - val_accuracy: 0.8817\n",
            "Epoch 63/1000\n",
            "12/12 [==============================] - 1s 109ms/step - loss: 0.0500 - accuracy: 0.9919 - val_loss: 0.4583 - val_accuracy: 0.9032\n",
            "Epoch 64/1000\n",
            "12/12 [==============================] - 1s 110ms/step - loss: 0.0366 - accuracy: 0.9892 - val_loss: 0.4873 - val_accuracy: 0.8817\n",
            "Epoch 65/1000\n",
            "12/12 [==============================] - 1s 107ms/step - loss: 0.0492 - accuracy: 0.9865 - val_loss: 0.6645 - val_accuracy: 0.8710\n",
            "Epoch 66/1000\n",
            "12/12 [==============================] - 1s 104ms/step - loss: 0.0797 - accuracy: 0.9784 - val_loss: 0.6164 - val_accuracy: 0.8817\n",
            "Epoch 67/1000\n",
            "12/12 [==============================] - 1s 100ms/step - loss: 0.0456 - accuracy: 0.9811 - val_loss: 0.3723 - val_accuracy: 0.9247\n",
            "Epoch 68/1000\n",
            "12/12 [==============================] - 1s 98ms/step - loss: 0.0439 - accuracy: 0.9919 - val_loss: 0.5931 - val_accuracy: 0.9032\n",
            "Epoch 69/1000\n",
            "12/12 [==============================] - 1s 103ms/step - loss: 0.0431 - accuracy: 0.9865 - val_loss: 0.5832 - val_accuracy: 0.8817\n",
            "Epoch 70/1000\n",
            "12/12 [==============================] - 1s 105ms/step - loss: 0.0263 - accuracy: 0.9919 - val_loss: 0.7044 - val_accuracy: 0.8817\n",
            "Epoch 71/1000\n",
            "12/12 [==============================] - 1s 99ms/step - loss: 0.0196 - accuracy: 0.9919 - val_loss: 0.5113 - val_accuracy: 0.9140\n",
            "Epoch 72/1000\n",
            "12/12 [==============================] - 1s 103ms/step - loss: 0.0078 - accuracy: 1.0000 - val_loss: 0.5167 - val_accuracy: 0.9032\n",
            "Epoch 73/1000\n",
            "12/12 [==============================] - 1s 104ms/step - loss: 0.0052 - accuracy: 1.0000 - val_loss: 0.4670 - val_accuracy: 0.9140\n",
            "Epoch 74/1000\n",
            "12/12 [==============================] - 1s 106ms/step - loss: 0.0042 - accuracy: 1.0000 - val_loss: 0.4969 - val_accuracy: 0.9032\n",
            "Epoch 75/1000\n",
            "12/12 [==============================] - 1s 107ms/step - loss: 0.0077 - accuracy: 0.9973 - val_loss: 0.4987 - val_accuracy: 0.8925\n",
            "Epoch 76/1000\n",
            "12/12 [==============================] - 1s 107ms/step - loss: 0.0052 - accuracy: 1.0000 - val_loss: 0.4882 - val_accuracy: 0.9032\n",
            "Epoch 77/1000\n",
            "12/12 [==============================] - 1s 98ms/step - loss: 0.0048 - accuracy: 1.0000 - val_loss: 0.5418 - val_accuracy: 0.8925\n",
            "Epoch 78/1000\n",
            "12/12 [==============================] - 1s 97ms/step - loss: 0.0043 - accuracy: 1.0000 - val_loss: 0.5956 - val_accuracy: 0.8925\n",
            "Epoch 79/1000\n",
            "12/12 [==============================] - 1s 98ms/step - loss: 0.0043 - accuracy: 1.0000 - val_loss: 0.5794 - val_accuracy: 0.8710\n",
            "Epoch 80/1000\n",
            "12/12 [==============================] - 1s 104ms/step - loss: 0.0037 - accuracy: 1.0000 - val_loss: 0.6165 - val_accuracy: 0.8710\n",
            "Epoch 81/1000\n",
            "12/12 [==============================] - 1s 98ms/step - loss: 0.0034 - accuracy: 1.0000 - val_loss: 0.6253 - val_accuracy: 0.8817\n",
            "Epoch 82/1000\n",
            "12/12 [==============================] - 1s 98ms/step - loss: 0.0040 - accuracy: 1.0000 - val_loss: 0.6276 - val_accuracy: 0.8817\n",
            "Epoch 83/1000\n",
            "12/12 [==============================] - 1s 99ms/step - loss: 0.0028 - accuracy: 1.0000 - val_loss: 0.6517 - val_accuracy: 0.8817\n",
            "Epoch 84/1000\n",
            "12/12 [==============================] - 1s 104ms/step - loss: 0.0027 - accuracy: 1.0000 - val_loss: 0.6550 - val_accuracy: 0.8817\n",
            "Epoch 85/1000\n",
            "12/12 [==============================] - 1s 106ms/step - loss: 0.0020 - accuracy: 1.0000 - val_loss: 0.6615 - val_accuracy: 0.8925\n",
            "Epoch 86/1000\n",
            "12/12 [==============================] - 1s 107ms/step - loss: 0.0019 - accuracy: 1.0000 - val_loss: 0.6273 - val_accuracy: 0.8925\n",
            "Epoch 87/1000\n",
            "12/12 [==============================] - 1s 108ms/step - loss: 0.0016 - accuracy: 1.0000 - val_loss: 0.5898 - val_accuracy: 0.8925\n",
            "Epoch 88/1000\n",
            "12/12 [==============================] - 1s 105ms/step - loss: 0.0018 - accuracy: 1.0000 - val_loss: 0.6056 - val_accuracy: 0.8925\n",
            "Epoch 89/1000\n",
            "12/12 [==============================] - 1s 100ms/step - loss: 0.0021 - accuracy: 1.0000 - val_loss: 0.6083 - val_accuracy: 0.8817\n",
            "Epoch 90/1000\n",
            "12/12 [==============================] - 1s 104ms/step - loss: 0.0019 - accuracy: 1.0000 - val_loss: 0.6327 - val_accuracy: 0.8817\n",
            "Epoch 91/1000\n",
            "12/12 [==============================] - 1s 99ms/step - loss: 0.0016 - accuracy: 1.0000 - val_loss: 0.6200 - val_accuracy: 0.8817\n",
            "Epoch 92/1000\n",
            "12/12 [==============================] - 1s 104ms/step - loss: 0.0014 - accuracy: 1.0000 - val_loss: 0.6290 - val_accuracy: 0.8817\n",
            "Epoch 93/1000\n",
            "12/12 [==============================] - 1s 99ms/step - loss: 0.0011 - accuracy: 1.0000 - val_loss: 0.6478 - val_accuracy: 0.8817\n",
            "Epoch 94/1000\n",
            "12/12 [==============================] - 1s 105ms/step - loss: 0.0015 - accuracy: 1.0000 - val_loss: 0.6457 - val_accuracy: 0.8817\n",
            "Epoch 95/1000\n",
            "12/12 [==============================] - 1s 99ms/step - loss: 0.0014 - accuracy: 1.0000 - val_loss: 0.6608 - val_accuracy: 0.8817\n",
            "Epoch 96/1000\n",
            "12/12 [==============================] - 1s 101ms/step - loss: 0.0020 - accuracy: 1.0000 - val_loss: 0.6503 - val_accuracy: 0.8925\n",
            "Epoch 97/1000\n",
            "12/12 [==============================] - 1s 109ms/step - loss: 0.0025 - accuracy: 1.0000 - val_loss: 0.6551 - val_accuracy: 0.9032\n",
            "Epoch 98/1000\n",
            "12/12 [==============================] - 1s 108ms/step - loss: 0.0018 - accuracy: 1.0000 - val_loss: 0.6374 - val_accuracy: 0.8925\n",
            "Epoch 99/1000\n",
            "12/12 [==============================] - 1s 104ms/step - loss: 0.0021 - accuracy: 1.0000 - val_loss: 0.6479 - val_accuracy: 0.8925\n",
            "Epoch 100/1000\n",
            "12/12 [==============================] - 1s 100ms/step - loss: 0.0018 - accuracy: 1.0000 - val_loss: 0.6312 - val_accuracy: 0.9032\n",
            "Epoch 101/1000\n",
            "12/12 [==============================] - 1s 100ms/step - loss: 0.0016 - accuracy: 1.0000 - val_loss: 0.6322 - val_accuracy: 0.9032\n",
            "Epoch 102/1000\n",
            "12/12 [==============================] - 1s 100ms/step - loss: 0.0014 - accuracy: 1.0000 - val_loss: 0.6468 - val_accuracy: 0.8925\n",
            "Epoch 103/1000\n",
            "12/12 [==============================] - 1s 100ms/step - loss: 0.0013 - accuracy: 1.0000 - val_loss: 0.6510 - val_accuracy: 0.8925\n",
            "Epoch 104/1000\n",
            "12/12 [==============================] - 1s 101ms/step - loss: 0.0011 - accuracy: 1.0000 - val_loss: 0.6821 - val_accuracy: 0.9032\n",
            "Epoch 105/1000\n",
            "12/12 [==============================] - 1s 106ms/step - loss: 0.0011 - accuracy: 1.0000 - val_loss: 0.6941 - val_accuracy: 0.9032\n",
            "Epoch 106/1000\n",
            "12/12 [==============================] - 1s 106ms/step - loss: 9.7513e-04 - accuracy: 1.0000 - val_loss: 0.7145 - val_accuracy: 0.9032\n",
            "Epoch 107/1000\n",
            "12/12 [==============================] - 1s 106ms/step - loss: 9.8972e-04 - accuracy: 1.0000 - val_loss: 0.7234 - val_accuracy: 0.9032\n",
            "Epoch 108/1000\n",
            "12/12 [==============================] - 1s 109ms/step - loss: 0.0010 - accuracy: 1.0000 - val_loss: 0.7157 - val_accuracy: 0.9032\n",
            "Epoch 109/1000\n",
            "12/12 [==============================] - 1s 109ms/step - loss: 8.6784e-04 - accuracy: 1.0000 - val_loss: 0.7171 - val_accuracy: 0.8925\n",
            "Epoch 110/1000\n",
            "12/12 [==============================] - 1s 111ms/step - loss: 0.0094 - accuracy: 0.9973 - val_loss: 0.7870 - val_accuracy: 0.8602\n",
            "Epoch 111/1000\n",
            "12/12 [==============================] - 1s 106ms/step - loss: 0.0280 - accuracy: 0.9892 - val_loss: 1.1318 - val_accuracy: 0.9032\n",
            "Epoch 112/1000\n",
            "12/12 [==============================] - 1s 100ms/step - loss: 0.1811 - accuracy: 0.9434 - val_loss: 1.2108 - val_accuracy: 0.8172\n",
            "Epoch 113/1000\n",
            "12/12 [==============================] - 1s 106ms/step - loss: 0.1614 - accuracy: 0.9515 - val_loss: 0.9659 - val_accuracy: 0.8065\n",
            "Epoch 114/1000\n",
            "12/12 [==============================] - 1s 105ms/step - loss: 0.2245 - accuracy: 0.9488 - val_loss: 0.7414 - val_accuracy: 0.9140\n",
            "Epoch 115/1000\n",
            "12/12 [==============================] - 1s 101ms/step - loss: 0.2100 - accuracy: 0.9434 - val_loss: 0.9651 - val_accuracy: 0.7419\n",
            "Epoch 116/1000\n",
            "12/12 [==============================] - 1s 106ms/step - loss: 0.3154 - accuracy: 0.9084 - val_loss: 0.4264 - val_accuracy: 0.8925\n",
            "Epoch 117/1000\n",
            "12/12 [==============================] - 1s 100ms/step - loss: 0.2210 - accuracy: 0.9245 - val_loss: 0.5284 - val_accuracy: 0.8065\n",
            "Epoch 118/1000\n",
            "12/12 [==============================] - 1s 101ms/step - loss: 0.3256 - accuracy: 0.9003 - val_loss: 0.3628 - val_accuracy: 0.9032\n",
            "Epoch 119/1000\n",
            "12/12 [==============================] - 1s 109ms/step - loss: 0.2813 - accuracy: 0.9272 - val_loss: 0.9531 - val_accuracy: 0.8495\n",
            "Epoch 120/1000\n",
            "12/12 [==============================] - 1s 109ms/step - loss: 0.4433 - accuracy: 0.9084 - val_loss: 2.2269 - val_accuracy: 0.6989\n",
            "Epoch 121/1000\n",
            "12/12 [==============================] - 1s 108ms/step - loss: 0.6466 - accuracy: 0.8706 - val_loss: 1.4756 - val_accuracy: 0.7957\n",
            "Epoch 122/1000\n",
            "12/12 [==============================] - 1s 101ms/step - loss: 1.2900 - accuracy: 0.7925 - val_loss: 1.1453 - val_accuracy: 0.7957\n",
            "Epoch 123/1000\n",
            "12/12 [==============================] - 1s 105ms/step - loss: 0.8482 - accuracy: 0.8544 - val_loss: 1.4092 - val_accuracy: 0.8065\n",
            "Epoch 124/1000\n",
            "12/12 [==============================] - 1s 106ms/step - loss: 1.0952 - accuracy: 0.8248 - val_loss: 1.5437 - val_accuracy: 0.7849\n",
            "Epoch 125/1000\n",
            "12/12 [==============================] - 1s 106ms/step - loss: 0.6380 - accuracy: 0.8086 - val_loss: 1.0115 - val_accuracy: 0.7634\n",
            "Epoch 126/1000\n",
            "12/12 [==============================] - 1s 100ms/step - loss: 0.7385 - accuracy: 0.8248 - val_loss: 0.8741 - val_accuracy: 0.8387\n",
            "Epoch 127/1000\n",
            "12/12 [==============================] - 1s 100ms/step - loss: 0.2136 - accuracy: 0.9380 - val_loss: 0.9572 - val_accuracy: 0.8495\n",
            "Epoch 128/1000\n",
            "12/12 [==============================] - 1s 105ms/step - loss: 0.1193 - accuracy: 0.9704 - val_loss: 0.3407 - val_accuracy: 0.8925\n",
            "Epoch 129/1000\n",
            "12/12 [==============================] - 1s 101ms/step - loss: 0.0513 - accuracy: 0.9811 - val_loss: 0.4037 - val_accuracy: 0.8817\n",
            "Epoch 130/1000\n",
            "12/12 [==============================] - 1s 109ms/step - loss: 0.0288 - accuracy: 0.9865 - val_loss: 0.4700 - val_accuracy: 0.8710\n",
            "Epoch 131/1000\n",
            "12/12 [==============================] - 1s 110ms/step - loss: 0.0537 - accuracy: 0.9811 - val_loss: 0.3664 - val_accuracy: 0.9140\n",
            "Epoch 132/1000\n",
            "12/12 [==============================] - 1s 109ms/step - loss: 0.0399 - accuracy: 0.9865 - val_loss: 0.3657 - val_accuracy: 0.9140\n",
            "Epoch 133/1000\n",
            "12/12 [==============================] - 1s 108ms/step - loss: 0.0157 - accuracy: 0.9973 - val_loss: 0.3475 - val_accuracy: 0.9032\n",
            "Epoch 134/1000\n",
            "12/12 [==============================] - 1s 101ms/step - loss: 0.0150 - accuracy: 0.9973 - val_loss: 0.4146 - val_accuracy: 0.9032\n",
            "Epoch 135/1000\n",
            "12/12 [==============================] - 1s 106ms/step - loss: 0.0092 - accuracy: 1.0000 - val_loss: 0.3882 - val_accuracy: 0.9140\n",
            "Epoch 136/1000\n",
            "12/12 [==============================] - 1s 105ms/step - loss: 0.0060 - accuracy: 1.0000 - val_loss: 0.3994 - val_accuracy: 0.9140\n",
            "Epoch 137/1000\n",
            "12/12 [==============================] - 1s 100ms/step - loss: 0.0074 - accuracy: 1.0000 - val_loss: 0.4229 - val_accuracy: 0.9140\n",
            "Epoch 138/1000\n",
            "12/12 [==============================] - 1s 100ms/step - loss: 0.0051 - accuracy: 1.0000 - val_loss: 0.3818 - val_accuracy: 0.9140\n",
            "Epoch 139/1000\n",
            "12/12 [==============================] - 1s 105ms/step - loss: 0.0082 - accuracy: 0.9973 - val_loss: 0.4425 - val_accuracy: 0.9140\n",
            "Epoch 140/1000\n",
            "12/12 [==============================] - 1s 100ms/step - loss: 0.0070 - accuracy: 1.0000 - val_loss: 0.4340 - val_accuracy: 0.9140\n",
            "Epoch 141/1000\n",
            "12/12 [==============================] - 1s 107ms/step - loss: 0.0058 - accuracy: 0.9973 - val_loss: 0.4667 - val_accuracy: 0.8817\n",
            "Epoch 142/1000\n",
            "12/12 [==============================] - 1s 106ms/step - loss: 0.0062 - accuracy: 1.0000 - val_loss: 0.5675 - val_accuracy: 0.8602\n",
            "Epoch 143/1000\n",
            "12/12 [==============================] - 1s 110ms/step - loss: 0.0060 - accuracy: 1.0000 - val_loss: 0.5693 - val_accuracy: 0.8602\n",
            "Epoch 144/1000\n",
            "12/12 [==============================] - 1s 106ms/step - loss: 0.0050 - accuracy: 1.0000 - val_loss: 0.5048 - val_accuracy: 0.8710\n",
            "Epoch 145/1000\n",
            "12/12 [==============================] - 1s 105ms/step - loss: 0.0032 - accuracy: 1.0000 - val_loss: 0.4917 - val_accuracy: 0.8817\n",
            "Epoch 146/1000\n",
            "12/12 [==============================] - 1s 105ms/step - loss: 0.0048 - accuracy: 0.9973 - val_loss: 0.4907 - val_accuracy: 0.8817\n",
            "Epoch 147/1000\n",
            "12/12 [==============================] - 1s 100ms/step - loss: 0.0047 - accuracy: 1.0000 - val_loss: 0.5388 - val_accuracy: 0.9032\n",
            "Epoch 148/1000\n",
            "12/12 [==============================] - 1s 100ms/step - loss: 0.0087 - accuracy: 0.9973 - val_loss: 0.4551 - val_accuracy: 0.9140\n",
            "Epoch 149/1000\n",
            "12/12 [==============================] - 1s 100ms/step - loss: 0.0041 - accuracy: 1.0000 - val_loss: 0.5298 - val_accuracy: 0.9032\n",
            "Epoch 150/1000\n",
            "12/12 [==============================] - 1s 104ms/step - loss: 0.0019 - accuracy: 1.0000 - val_loss: 0.5514 - val_accuracy: 0.9032\n",
            "Epoch 151/1000\n",
            "12/12 [==============================] - 1s 104ms/step - loss: 0.0026 - accuracy: 1.0000 - val_loss: 0.5292 - val_accuracy: 0.9032\n",
            "Epoch 152/1000\n",
            "12/12 [==============================] - 1s 100ms/step - loss: 0.0049 - accuracy: 0.9973 - val_loss: 0.5143 - val_accuracy: 0.9032\n",
            "Epoch 153/1000\n",
            "12/12 [==============================] - 1s 108ms/step - loss: 0.0033 - accuracy: 1.0000 - val_loss: 0.5541 - val_accuracy: 0.8925\n",
            "Epoch 154/1000\n",
            "12/12 [==============================] - 1s 103ms/step - loss: 0.0021 - accuracy: 1.0000 - val_loss: 0.6145 - val_accuracy: 0.8925\n",
            "Epoch 155/1000\n",
            "12/12 [==============================] - 1s 102ms/step - loss: 0.0022 - accuracy: 1.0000 - val_loss: 0.5146 - val_accuracy: 0.8925\n",
            "Epoch 156/1000\n",
            "12/12 [==============================] - 1s 99ms/step - loss: 0.0020 - accuracy: 1.0000 - val_loss: 0.4768 - val_accuracy: 0.9032\n",
            "Epoch 157/1000\n",
            "12/12 [==============================] - 1s 98ms/step - loss: 0.0019 - accuracy: 1.0000 - val_loss: 0.4726 - val_accuracy: 0.9032\n",
            "Epoch 158/1000\n",
            "12/12 [==============================] - 1s 99ms/step - loss: 0.0020 - accuracy: 1.0000 - val_loss: 0.4621 - val_accuracy: 0.9032\n",
            "Epoch 159/1000\n",
            "12/12 [==============================] - 1s 98ms/step - loss: 0.0019 - accuracy: 1.0000 - val_loss: 0.4641 - val_accuracy: 0.9032\n",
            "Epoch 160/1000\n",
            "12/12 [==============================] - 1s 105ms/step - loss: 0.0018 - accuracy: 1.0000 - val_loss: 0.4699 - val_accuracy: 0.9032\n",
            "4/4 [==============================] - 0s 42ms/step - loss: 0.4186 - accuracy: 0.9231\n"
          ]
        },
        {
          "output_type": "execute_result",
          "data": {
            "text/plain": [
              "[0.4186224639415741, 0.9230769276618958]"
            ]
          },
          "metadata": {},
          "execution_count": 13
        }
      ],
      "source": [
        "from tensorflow.keras.optimizers.schedules import CosineDecay\n",
        "\n",
        "# Define model architecture and compile it\n",
        "input_shape = x_train.shape[1:]\n",
        "model = build_model(\n",
        "    input_shape,\n",
        "    head_size=256,\n",
        "    num_heads=6,\n",
        "    ff_dim=16,\n",
        "    num_transformer_blocks=6,  # Increased num_transformer_blocks from 4 to 6\n",
        "    mlp_units=[256],\n",
        "    mlp_dropout=0.2,\n",
        "    dropout=0.1,\n",
        ")\n",
        "lr_schedule = CosineDecay(\n",
        "    initial_learning_rate=1e-3,\n",
        "    decay_steps=10000,\n",
        ")\n",
        "optimizer = tf.keras.optimizers.Adam(learning_rate=lr_schedule)\n",
        "model.compile(optimizer=optimizer,\n",
        "              loss='sparse_categorical_crossentropy',\n",
        "              metrics=['accuracy'])\n",
        "\n",
        "# Add L2 regularization\n",
        "for layer in model.layers:\n",
        "    if isinstance(layer, layers.Dense):\n",
        "        layer.kernel_regularizer = tf.keras.regularizers.l2(1e-4)\n",
        "\n",
        "# Define callbacks\n",
        "callbacks = [keras.callbacks.EarlyStopping(monitor='val_loss', patience=100, restore_best_weights=True)]\n",
        "\n",
        "# Train the model\n",
        "history = model.fit(\n",
        "    x_train,\n",
        "    y_train,\n",
        "    validation_split=0.2,\n",
        "    epochs=1000,\n",
        "    batch_size=32,\n",
        "    callbacks=callbacks,\n",
        ")\n",
        "\n",
        "# Evaluate the model on test data\n",
        "model.evaluate(x_test, y_test, verbose=1)"
      ]
    },
    {
      "cell_type": "code",
      "execution_count": null,
      "metadata": {
        "colab": {
          "base_uri": "https://localhost:8080/",
          "height": 388
        },
        "id": "PsjMzXoNm0aq",
        "outputId": "8b0bef08-c874-44ef-ad03-ae1b83570849"
      },
      "outputs": [
        {
          "output_type": "display_data",
          "data": {
            "text/plain": [
              "<Figure size 1200x400 with 2 Axes>"
            ],
            "image/png": "[encoded data removed]"
          },
          "metadata": {}
        }
      ],
      "source": [
        "import matplotlib.pyplot as plt\n",
        "\n",
        "def plot_history(history):\n",
        "    plt.figure(figsize=(12, 4))\n",
        "\n",
        "    plt.subplot(1, 2, 1)\n",
        "    plt.plot(history.history['accuracy'], label='Training Accuracy')\n",
        "    plt.plot(history.history['val_accuracy'], label='Validation Accuracy')\n",
        "    plt.xlabel('Epochs')\n",
        "    plt.ylabel('Accuracy')\n",
        "    plt.legend()\n",
        "\n",
        "    plt.subplot(1, 2, 2)\n",
        "    plt.plot(history.history['loss'], label='Training Loss')\n",
        "    plt.plot(history.history['val_loss'], label='Validation Loss')\n",
        "    plt.xlabel('Epochs')\n",
        "    plt.ylabel('Loss')\n",
        "    plt.legend()\n",
        "\n",
        "    plt.show()\n",
        "\n",
        "plot_history(history)"
      ]
    },
    {
      "cell_type": "code",
      "execution_count": null,
      "metadata": {
        "id": "ByiJ8jVNm0as"
      },
      "outputs": [],
      "source": [
        "import os\n",
        "import tensorflow as tf\n",
        "\n",
        "# define the model and train it\n",
        "\n",
        "# create a directory to save the model\n",
        "save_dir = 'saved_models'\n",
        "if not os.path.exists(save_dir):\n",
        "    os.makedirs(save_dir)\n",
        "\n",
        "# save the model\n",
        "model.save(os.path.join(save_dir, 'my_model.h5'))"
      ]
    },
    {
      "cell_type": "code",
      "execution_count": null,
      "metadata": {
        "id": "NvDdkEi9gaq2",
        "colab": {
          "base_uri": "https://localhost:8080/"
        },
        "outputId": "689c5e96-f75d-4218-cfd2-f89439b2fae7"
      },
      "outputs": [
        {
          "output_type": "stream",
          "name": "stdout",
          "text": [
            "15/15 [==============================] - 1s 33ms/step - loss: 0.0753 - accuracy: 0.9828\n",
            "Training Accuracy: 98.28%\n",
            "\n",
            "4/4 [==============================] - 0s 29ms/step - loss: 0.4186 - accuracy: 0.9231\n",
            "Testing Accuracy: 92.31%\n",
            "\n"
          ]
        }
      ],
      "source": [
        "scores = model.evaluate(x_train, y_train)\n",
        "print(\"Training Accuracy: %.2f%%\\n\" % (scores[1]*100))\n",
        "\n",
        "scores = model.evaluate(x_test, y_test)\n",
        "print(\"Testing Accuracy: %.2f%%\\n\" % (scores[1]*100))"
      ]
    },
    {
      "cell_type": "code",
      "execution_count": null,
      "metadata": {
        "id": "dr_xANvwqfjm",
        "colab": {
          "base_uri": "https://localhost:8080/"
        },
        "outputId": "0a46f3cd-ccea-4b41-d11c-3abce8771c7e"
      },
      "outputs": [
        {
          "output_type": "stream",
          "name": "stdout",
          "text": [
            "4/4 [==============================] - 1s 26ms/step\n",
            "              precision    recall  f1-score   support\n",
            "\n",
            "     falling       0.83      0.95      0.88        20\n",
            "    stand_up       1.00      0.95      0.97        20\n",
            "    standing       0.95      1.00      0.98        20\n",
            "    lie_down       0.94      0.94      0.94        17\n",
            "    sit_down       0.90      0.95      0.93        20\n",
            "         lie       0.94      0.75      0.83        20\n",
            "\n",
            "    accuracy                           0.92       117\n",
            "   macro avg       0.93      0.92      0.92       117\n",
            "weighted avg       0.93      0.92      0.92       117\n",
            "\n"
          ]
        }
      ],
      "source": [
        "from sklearn.metrics import classification_report\n",
        "\n",
        "# Get the predicted labels\n",
        "yhat = model.predict(x_test)\n",
        "predicted_labels = np.argmax(yhat, axis=1)\n",
        "class_names = ['falling', 'stand_up', 'standing', 'lie_down', 'sit_down', 'lie']\n",
        "# Print the classification report\n",
        "print(classification_report(y_test, predicted_labels, target_names=class_names))"
      ]
    },
    {
      "cell_type": "code",
      "execution_count": null,
      "metadata": {
        "id": "5GWsfDzjqhQQ",
        "colab": {
          "base_uri": "https://localhost:8080/"
        },
        "outputId": "f1b9849b-455d-4396-8797-82d6ed4a241e"
      },
      "outputs": [
        {
          "output_type": "stream",
          "name": "stdout",
          "text": [
            "precision_score = 0.926620480968307\n",
            "recall_score = 0.9230769230769231\n",
            "f1_score = 0.9220260277461727\n"
          ]
        }
      ],
      "source": [
        "from sklearn.metrics import precision_score, recall_score, f1_score\n",
        "p = precision_score(y_test, predicted_labels, average='weighted')\n",
        "print('precision_score =', p)\n",
        "r = recall_score(y_test, predicted_labels, average='weighted')\n",
        "print('recall_score =', r)\n",
        "f1 = f1_score(y_test, predicted_labels, average='weighted')\n",
        "print('f1_score =', f1)"
      ]
    },
    {
      "cell_type": "code",
      "execution_count": null,
      "metadata": {
        "id": "YBdq3szVqsvO",
        "colab": {
          "base_uri": "https://localhost:8080/",
          "height": 547
        },
        "outputId": "f0ec8979-a946-4d1f-df9e-b706ddad6bc0"
      },
      "outputs": [
        {
          "output_type": "display_data",
          "data": {
            "text/plain": [
              "<Figure size 600x600 with 2 Axes>"
            ],
            "image/png": "[encoded data removed]"
          },
          "metadata": {}
        }
      ],
      "source": [
        "import seaborn as sns\n",
        "from sklearn.metrics import confusion_matrix\n",
        "\n",
        "# Define class names\n",
        "class_names = ['falling', 'stand_up', 'standing', 'lie_down', 'sit_down', 'lie']\n",
        "\n",
        "# Create confusion matrix\n",
        "cm = confusion_matrix(y_test, predicted_labels)\n",
        "\n",
        "# Plot confusion matrix using seaborn heatmap\n",
        "plt.figure(figsize=(6,6))\n",
        "sns.heatmap(cm, annot=True, cmap='Blues', xticklabels=class_names, yticklabels=class_names)\n",
        "\n",
        "# Set axis labels\n",
        "plt.xlabel('Predicted')\n",
        "plt.ylabel('True')\n",
        "\n",
        "plt.show()"
      ]
    },
    {
      "cell_type": "raw",
      "metadata": {
        "id": "y3jECviHqxWm"
      },
      "source": [
        "print(yhat)\n",
        "print(predicted_labels)\n",
        "print(y_test)\n",
        "##roc 시각화를 위한"
      ]
    },
    {
      "cell_type": "code",
      "execution_count": null,
      "metadata": {
        "id": "F9SqG0P2vIZH",
        "colab": {
          "base_uri": "https://localhost:8080/",
          "height": 489
        },
        "outputId": "a5e5be00-2a10-4e28-9ea4-9d8ffdb8bc3f"
      },
      "outputs": [
        {
          "output_type": "stream",
          "name": "stdout",
          "text": [
            "4/4 [==============================] - 0s 27ms/step\n"
          ]
        },
        {
          "output_type": "display_data",
          "data": {
            "text/plain": [
              "<Figure size 640x480 with 1 Axes>"
            ],
            "image/png": "[encoded data removed]"
          },
          "metadata": {}
        }
      ],
      "source": [
        "from sklearn.metrics import roc_auc_score, roc_curve\n",
        "import pandas as pd\n",
        "\n",
        "# Compute predicted probabilities for each class\n",
        "probs = model.predict(x_test)\n",
        "\n",
        "# Generate ROC curve for the first class\n",
        "fpr, tpr, thresholds = roc_curve(y_test == 0, probs[:, 0])\n",
        "\n",
        "# Create a DataFrame to store the results\n",
        "roc = pd.DataFrame({\n",
        "    'FPR(Fall-out)': fpr,\n",
        "    'TPRate(Recall)': tpr,\n",
        "    'Threshold': thresholds\n",
        "})\n",
        "\n",
        "# Plot the ROC curve\n",
        "plt.plot(fpr, tpr)\n",
        "plt.xlabel('False Positive Rate')\n",
        "plt.ylabel('True Positive Rate')\n",
        "plt.title('True Positive rate Vs False positive rate')\n",
        "plt.show()"
      ]
    },
    {
      "cell_type": "code",
      "execution_count": null,
      "metadata": {
        "id": "hFpvq46nvLcU",
        "colab": {
          "base_uri": "https://localhost:8080/"
        },
        "outputId": "8444eeef-0549-409f-895c-df7abc477e7f"
      },
      "outputs": [
        {
          "output_type": "stream",
          "name": "stdout",
          "text": [
            "idx: 4 , threshold: 0.9611834\n"
          ]
        }
      ],
      "source": [
        "# threshold 최대값의 인덱스, np.argmax()\n",
        "optimal_idx = np.argmax(tpr - fpr)\n",
        "optimal_threshold = thresholds[optimal_idx]\n",
        "\n",
        "print('idx:', optimal_idx, ', threshold:', optimal_threshold)"
      ]
    },
    {
      "cell_type": "code",
      "execution_count": null,
      "metadata": {
        "id": "mtuHkBDCvMVm",
        "colab": {
          "base_uri": "https://localhost:8080/"
        },
        "outputId": "43494dec-29dd-4549-d1cf-027ff8e2d543"
      },
      "outputs": [
        {
          "output_type": "stream",
          "name": "stdout",
          "text": [
            "4/4 [==============================] - 0s 26ms/step\n",
            "[[1 0 0 0 0 0]\n",
            " [1 0 0 0 0 0]\n",
            " [0 0 0 0 1 0]\n",
            " [0 0 0 1 0 0]\n",
            " [0 0 0 0 0 0]\n",
            " [0 0 0 0 0 0]\n",
            " [1 0 0 0 0 0]\n",
            " [0 0 0 0 0 0]\n",
            " [1 0 0 0 0 0]\n",
            " [0 0 1 0 0 0]\n",
            " [0 0 0 1 0 0]\n",
            " [0 0 0 0 0 0]\n",
            " [0 0 1 0 0 0]\n",
            " [0 0 0 0 0 0]\n",
            " [0 0 0 0 0 1]\n",
            " [0 0 0 1 0 0]\n",
            " [0 0 0 1 0 0]\n",
            " [0 0 0 0 0 0]\n",
            " [0 0 0 0 0 0]\n",
            " [0 0 0 0 1 0]\n",
            " [0 0 0 1 0 0]\n",
            " [0 0 1 0 0 0]\n",
            " [0 0 1 0 0 0]\n",
            " [0 0 0 0 0 1]\n",
            " [0 0 1 0 0 0]\n",
            " [0 0 0 0 0 0]\n",
            " [0 0 1 0 0 0]\n",
            " [1 0 0 0 0 0]\n",
            " [0 0 0 0 0 0]\n",
            " [1 0 0 0 0 0]\n",
            " [0 1 0 0 0 0]\n",
            " [0 1 0 0 0 0]\n",
            " [0 0 0 0 0 1]\n",
            " [0 0 0 0 0 1]\n",
            " [0 0 0 0 0 1]\n",
            " [0 1 0 0 0 0]\n",
            " [0 0 1 0 0 0]\n",
            " [1 0 0 0 0 0]\n",
            " [0 0 1 0 0 0]\n",
            " [0 0 0 1 0 0]\n",
            " [1 0 0 0 0 0]\n",
            " [0 1 0 0 0 0]\n",
            " [0 0 0 1 0 0]\n",
            " [0 1 0 0 0 0]\n",
            " [0 0 0 0 0 0]\n",
            " [0 1 0 0 0 0]\n",
            " [0 0 0 0 0 0]\n",
            " [1 0 0 0 0 0]\n",
            " [0 0 0 1 0 0]\n",
            " [0 0 1 0 0 0]\n",
            " [0 0 0 0 0 0]\n",
            " [0 0 1 0 0 0]\n",
            " [0 0 1 0 0 0]\n",
            " [0 0 0 0 0 0]\n",
            " [0 0 1 0 0 0]\n",
            " [0 1 0 0 0 0]\n",
            " [1 0 0 0 0 0]\n",
            " [0 0 0 0 0 0]\n",
            " [0 0 0 1 0 0]\n",
            " [0 0 0 0 1 0]\n",
            " [0 0 1 0 0 0]\n",
            " [0 0 0 1 0 0]\n",
            " [0 0 0 0 0 0]\n",
            " [0 0 0 0 1 0]\n",
            " [0 0 0 0 0 0]\n",
            " [1 0 0 0 0 0]\n",
            " [1 0 0 0 0 0]\n",
            " [0 0 0 1 0 0]\n",
            " [0 0 0 0 0 1]\n",
            " [0 0 1 0 0 0]\n",
            " [0 1 0 0 0 0]\n",
            " [0 0 1 0 0 0]\n",
            " [0 0 0 0 0 0]\n",
            " [0 0 0 0 0 0]\n",
            " [0 1 0 0 0 0]\n",
            " [0 0 0 0 0 1]\n",
            " [0 0 0 0 0 0]\n",
            " [0 1 0 0 0 0]\n",
            " [0 0 0 0 0 1]\n",
            " [0 1 0 0 0 0]\n",
            " [0 0 0 0 0 0]\n",
            " [0 0 1 0 0 0]\n",
            " [1 0 0 0 0 0]\n",
            " [1 0 0 0 0 0]\n",
            " [0 1 0 0 0 0]\n",
            " [0 0 0 0 0 0]\n",
            " [0 0 0 0 0 1]\n",
            " [1 0 0 0 0 0]\n",
            " [0 0 0 0 0 1]\n",
            " [0 1 0 0 0 0]\n",
            " [0 0 0 0 0 0]\n",
            " [0 0 0 1 0 0]\n",
            " [1 0 0 0 0 0]\n",
            " [0 0 1 0 0 0]\n",
            " [0 0 0 0 1 0]\n",
            " [1 0 0 0 0 0]\n",
            " [0 0 0 1 0 0]\n",
            " [0 0 0 1 0 0]\n",
            " [0 0 0 0 0 0]\n",
            " [0 0 0 0 0 1]\n",
            " [0 1 0 0 0 0]\n",
            " [0 0 0 0 1 0]\n",
            " [1 0 0 0 0 0]\n",
            " [0 0 1 0 0 0]\n",
            " [0 1 0 0 0 0]\n",
            " [0 0 1 0 0 0]\n",
            " [0 0 0 1 0 0]\n",
            " [1 0 0 0 0 0]\n",
            " [0 1 0 0 0 0]\n",
            " [0 0 1 0 0 0]\n",
            " [0 0 0 1 0 0]\n",
            " [0 0 0 1 0 0]\n",
            " [0 1 0 0 0 0]\n",
            " [0 1 0 0 0 0]\n",
            " [0 0 0 0 0 0]\n",
            " [1 0 0 0 0 0]\n",
            " [0 1 0 0 0 0]]\n",
            "[0 0 4 3 5 4 0 4 0 2 3 4 2 4 5 3 3 5 4 4 3 2 2 5 2 4 2 0 4 0 1 1 5 0 5 1 2\n",
            " 0 2 3 0 1 3 1 5 1 5 0 3 2 4 2 2 5 2 1 0 4 3 4 2 3 4 4 4 5 0 3 5 2 1 2 4 5\n",
            " 1 5 4 1 5 1 4 2 0 0 1 5 5 0 5 1 4 3 0 2 4 0 3 3 5 5 1 5 0 2 1 2 3 0 1 2 1\n",
            " 3 1 1 3 0 1]\n"
          ]
        }
      ],
      "source": [
        "##############optimal threshold 기준 예측##################\n",
        "predict =  (model.predict(x_test) >= optimal_threshold)\n",
        "\n",
        "# 1의 예측값만 불러와도 되므로 [:,1]사용\n",
        "predict = predict.astype(int)\n",
        "print(predict)\n",
        "print(y_test)"
      ]
    },
    {
      "cell_type": "code",
      "execution_count": null,
      "metadata": {
        "id": "TsMVxHGTm0a_"
      },
      "outputs": [],
      "source": [
        "import numpy as np\n",
        "y_pred = np.argmax(predict, axis=1)"
      ]
    },
    {
      "cell_type": "code",
      "execution_count": null,
      "metadata": {
        "colab": {
          "base_uri": "https://localhost:8080/"
        },
        "id": "GBg4lwhDm0bA",
        "outputId": "bd0fd578-c346-4670-e0e4-5be945c41d9d"
      },
      "outputs": [
        {
          "output_type": "stream",
          "name": "stdout",
          "text": [
            "              precision    recall  f1-score   support\n",
            "\n",
            "     falling       0.43      0.95      0.59        20\n",
            "    stand_up       1.00      0.95      0.97        20\n",
            "    standing       1.00      1.00      1.00        20\n",
            "    lie_down       0.94      0.94      0.94        17\n",
            "    sit_down       0.83      0.25      0.38        20\n",
            "         lie       0.91      0.50      0.65        20\n",
            "\n",
            "    accuracy                           0.76       117\n",
            "   macro avg       0.85      0.77      0.76       117\n",
            "weighted avg       0.85      0.76      0.75       117\n",
            "\n"
          ]
        }
      ],
      "source": [
        "from sklearn.metrics import classification_report\n",
        "print(classification_report(y_test, y_pred, target_names=class_names))"
      ]
    },
    {
      "cell_type": "code",
      "execution_count": null,
      "metadata": {
        "colab": {
          "base_uri": "https://localhost:8080/"
        },
        "id": "eJsxxEecm0bA",
        "outputId": "e297c35b-3fd4-49f5-a7dd-f0a70714b883"
      },
      "outputs": [
        {
          "output_type": "stream",
          "name": "stdout",
          "text": [
            "precision_score = 0.926620480968307\n",
            "recall_score = 0.9230769230769231\n",
            "f1_score = 0.9220260277461727\n"
          ]
        }
      ],
      "source": [
        "from sklearn.metrics import precision_score, recall_score, f1_score\n",
        "p = precision_score(y_test, predicted_labels, average='weighted')\n",
        "print('precision_score =', p)\n",
        "r = recall_score(y_test, predicted_labels, average='weighted')\n",
        "print('recall_score =', r)\n",
        "f1 = f1_score(y_test, predicted_labels, average='weighted')\n",
        "print('f1_score =', f1)"
      ]
    },
    {
      "cell_type": "code",
      "execution_count": null,
      "metadata": {
        "id": "YzxNFx93voAS",
        "colab": {
          "base_uri": "https://localhost:8080/",
          "height": 669
        },
        "outputId": "7745f2d7-4b98-44c4-bcfb-69534fdf2158"
      },
      "outputs": [
        {
          "output_type": "stream",
          "name": "stdout",
          "text": [
            "              precision    recall  f1-score   support\n",
            "\n",
            "     falling       0.43      0.95      0.59        20\n",
            "    stand_up       1.00      0.95      0.97        20\n",
            "    standing       1.00      1.00      1.00        20\n",
            "    lie_down       0.94      0.94      0.94        17\n",
            "    sit_down       0.83      0.25      0.38        20\n",
            "         lie       0.91      0.50      0.65        20\n",
            "\n",
            "    accuracy                           0.76       117\n",
            "   macro avg       0.85      0.77      0.76       117\n",
            "weighted avg       0.85      0.76      0.75       117\n",
            "\n"
          ]
        },
        {
          "output_type": "display_data",
          "data": {
            "text/plain": [
              "<Figure size 400x400 with 2 Axes>"
            ],
            "image/png": "[encoded data removed]"
          },
          "metadata": {}
        }
      ],
      "source": [
        "import numpy as np\n",
        "from sklearn.metrics import classification_report, confusion_matrix\n",
        "\n",
        "# convert predictions to multiclass format\n",
        "y_pred = np.argmax(predict, axis=1)\n",
        "\n",
        "# print classification report\n",
        "print(classification_report(y_test, y_pred, target_names=class_names))\n",
        "\n",
        "# plot confusion matrix\n",
        "plt.figure(figsize=(4,4))\n",
        "cm = confusion_matrix(y_test, y_pred, labels=range(n_classes))\n",
        "ax = sns.heatmap(cm, annot=True, xticklabels=class_names, yticklabels=class_names,\n",
        "                 fmt='d', cmap='Blues')\n",
        "ax.set_xlabel(\"Prediction\")\n",
        "ax.set_ylabel(\"Actual\")\n",
        "plt.show()"
      ]
    }
  ],
  "metadata": {
    "colab": {
      "provenance": [],
      "gpuType": "T4"
    },
    "kernelspec": {
      "display_name": "Python 3",
      "name": "python3"
    },
    "language_info": {
      "name": "python"
    },
    "accelerator": "GPU"
  },
  "nbformat": 4,
  "nbformat_minor": 0
}